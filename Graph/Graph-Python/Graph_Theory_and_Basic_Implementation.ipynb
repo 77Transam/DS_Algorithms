{
 "cells": [
  {
   "cell_type": "markdown",
   "metadata": {},
   "source": [
    "# GRAPH"
   ]
  },
  {
   "cell_type": "markdown",
   "metadata": {},
   "source": [
    "A graph is a non-linear data structure defined as G=(V,E) \n",
    "\n",
    "where V is a finite set of vertices and E is a finite set \n",
    "\n",
    "of edges, such that each edge is a line or arc connecting \n",
    "\n",
    "any two vertices."
   ]
  },
  {
   "cell_type": "code",
   "execution_count": 3,
   "metadata": {},
   "outputs": [
    {
     "data": {
      "text/html": [
       "<img src=\"https://www.python-course.eu/images/simple_graph_isolated.png\"/>"
      ],
      "text/plain": [
       "<IPython.core.display.Image object>"
      ]
     },
     "execution_count": 3,
     "metadata": {},
     "output_type": "execute_result"
    }
   ],
   "source": [
    "# Below is a Graph\n",
    "# Nodes -> a, b, c, d, e, f\n",
    "# Edges -> (a,c), (b,c), (b,e), (c,d), (c,e)"
   ]
  },
  {
   "cell_type": "code",
   "execution_count": null,
   "metadata": {},
   "outputs": [],
   "source": [
    "# Above graph can be represented in Python in a Dictionary\n",
    "graph = { \"a\" : [\"c\"],\n",
    "          \"b\" : [\"c\", \"e\"],\n",
    "          \"c\" : [\"a\", \"b\", \"d\", \"e\"],\n",
    "          \"d\" : [\"c\"],\n",
    "          \"e\" : [\"c\", \"b\"],\n",
    "          \"f\" : []\n",
    "        }"
   ]
  },
  {
   "cell_type": "code",
   "execution_count": 4,
   "metadata": {},
   "outputs": [
    {
     "name": "stdout",
     "output_type": "stream",
     "text": [
      "Vertices of graph:\n",
      "['a', 'b', 'c', 'd', 'e', 'f']\n",
      "Edges of graph:\n",
      "[{'a', 'd'}, {'b', 'c'}, {'c'}, {'c', 'd'}, {'e', 'c'}]\n",
      "Add vertex:\n",
      "Vertices of graph:\n",
      "['a', 'b', 'c', 'd', 'e', 'f', 'z']\n",
      "Add an edge:\n",
      "Vertices of graph:\n",
      "['a', 'b', 'c', 'd', 'e', 'f', 'z']\n",
      "Edges of graph:\n",
      "[{'a', 'd'}, {'b', 'c'}, {'c'}, {'c', 'd'}, {'e', 'c'}, {'a', 'z'}]\n",
      "Adding an edge {\"x\",\"y\"} with new vertices:\n",
      "Vertices of graph:\n",
      "['a', 'b', 'c', 'd', 'e', 'f', 'z', 'x']\n",
      "Edges of graph:\n",
      "[{'a', 'd'}, {'b', 'c'}, {'c'}, {'c', 'd'}, {'e', 'c'}, {'a', 'z'}, {'x', 'y'}]\n"
     ]
    }
   ],
   "source": [
    "\"\"\"\n",
    "A simple Python graph class, demonstrating the essential \n",
    "facts and functionalities of graphs.\n",
    "\"\"\"\n",
    "\n",
    "\n",
    "class Graph(object):\n",
    "\n",
    "    def __init__(self, graph_dict=None):\n",
    "        \"\"\" initializes a graph object \n",
    "            If no dictionary or None is given, \n",
    "            an empty dictionary will be used\n",
    "        \"\"\"\n",
    "        if graph_dict == None:\n",
    "            graph_dict = {}\n",
    "        self.__graph_dict = graph_dict\n",
    "\n",
    "    def vertices(self):\n",
    "        \"\"\" returns the vertices of a graph \"\"\"\n",
    "        return list(self.__graph_dict.keys())\n",
    "\n",
    "    def edges(self):\n",
    "        \"\"\" returns the edges of a graph \"\"\"\n",
    "        return self.__generate_edges()\n",
    "\n",
    "    def add_vertex(self, vertex):\n",
    "        \"\"\" If the vertex \"vertex\" is not in \n",
    "            self.__graph_dict, a key \"vertex\" with an empty\n",
    "            list as a value is added to the dictionary. \n",
    "            Otherwise nothing has to be done. \n",
    "        \"\"\"\n",
    "        if vertex not in self.__graph_dict:\n",
    "            self.__graph_dict[vertex] = []\n",
    "\n",
    "    def add_edge(self, edge):\n",
    "        \"\"\" assumes that edge is of type set, tuple or list; \n",
    "            between two vertices can be multiple edges! \n",
    "        \"\"\"\n",
    "        edge = set(edge)\n",
    "        (vertex1, vertex2) = tuple(edge)\n",
    "        if vertex1 in self.__graph_dict:\n",
    "            self.__graph_dict[vertex1].append(vertex2)\n",
    "        else:\n",
    "            self.__graph_dict[vertex1] = [vertex2]\n",
    "\n",
    "    def __generate_edges(self):\n",
    "        \"\"\" A static method generating the edges of the \n",
    "            graph \"graph\". Edges are represented as sets \n",
    "            with one (a loop back to the vertex) or two \n",
    "            vertices \n",
    "        \"\"\"\n",
    "        edges = []\n",
    "        for vertex in self.__graph_dict:\n",
    "            for neighbour in self.__graph_dict[vertex]:\n",
    "                if {neighbour, vertex} not in edges:\n",
    "                    edges.append({vertex, neighbour})\n",
    "        return edges\n",
    "\n",
    "    def __str__(self):\n",
    "        res = \"vertices: \"\n",
    "        for k in self.__graph_dict:\n",
    "            res += str(k) + \" \"\n",
    "        res += \"\\nedges: \"\n",
    "        for edge in self.__generate_edges():\n",
    "            res += str(edge) + \" \"\n",
    "        return res\n",
    "\n",
    "\n",
    "if __name__ == \"__main__\":\n",
    "\n",
    "    g = { \"a\" : [\"d\"],\n",
    "          \"b\" : [\"c\"],\n",
    "          \"c\" : [\"b\", \"c\", \"d\", \"e\"],\n",
    "          \"d\" : [\"a\", \"c\"],\n",
    "          \"e\" : [\"c\"],\n",
    "          \"f\" : []\n",
    "        }\n",
    "\n",
    "\n",
    "    graph = Graph(g)\n",
    "\n",
    "    print(\"Vertices of graph:\")\n",
    "    print(graph.vertices())\n",
    "\n",
    "    print(\"Edges of graph:\")\n",
    "    print(graph.edges())\n",
    "\n",
    "    print(\"Add vertex:\")\n",
    "    graph.add_vertex(\"z\")\n",
    "\n",
    "    print(\"Vertices of graph:\")\n",
    "    print(graph.vertices())\n",
    " \n",
    "    print(\"Add an edge:\")\n",
    "    graph.add_edge({\"a\",\"z\"})\n",
    "    \n",
    "    print(\"Vertices of graph:\")\n",
    "    print(graph.vertices())\n",
    "\n",
    "    print(\"Edges of graph:\")\n",
    "    print(graph.edges())\n",
    "\n",
    "    print('Adding an edge {\"x\",\"y\"} with new vertices:')\n",
    "    graph.add_edge({\"x\",\"y\"})\n",
    "    print(\"Vertices of graph:\")\n",
    "    print(graph.vertices())\n",
    "    print(\"Edges of graph:\")\n",
    "    print(graph.edges())"
   ]
  },
  {
   "cell_type": "markdown",
   "metadata": {},
   "source": [
    "In the above implementation notice the major fucntions\n",
    "    \n",
    "    add_vertex => adding a new vertex\n",
    "    \n",
    "    add_edge => adding a new edge\n",
    "\n",
    "In any graph related problem these will be needed."
   ]
  },
  {
   "cell_type": "markdown",
   "metadata": {},
   "source": [
    "Tip to ponder:\n",
    "    How can you add cost to edges in the above implementation?"
   ]
  },
  {
   "cell_type": "markdown",
   "metadata": {},
   "source": [
    "Reference\n",
    "https://www.python-course.eu/graphs_python.php"
   ]
  }
 ],
 "metadata": {
  "kernelspec": {
   "display_name": "Python 3",
   "language": "python",
   "name": "python3"
  },
  "language_info": {
   "codemirror_mode": {
    "name": "ipython",
    "version": 3
   },
   "file_extension": ".py",
   "mimetype": "text/x-python",
   "name": "python",
   "nbconvert_exporter": "python",
   "pygments_lexer": "ipython3",
   "version": "3.7.6"
  }
 },
 "nbformat": 4,
 "nbformat_minor": 4
}
